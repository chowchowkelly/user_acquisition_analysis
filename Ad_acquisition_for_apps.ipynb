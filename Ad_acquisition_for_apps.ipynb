{
 "cells": [
  {
   "cell_type": "markdown",
   "metadata": {},
   "source": [
    "\n",
    "# Objective:\n",
    "\n",
    "The hypothetical app provides job matching services based on users’ personalities. The company is optimizing for collecting as many user personality data as possible by having users to complete Myers Briggs personality tests. The project should be completed within 2 hours.\n",
    "\n",
    "## Goal: \n",
    "optimize user acquisition through online advertisement strategies. "
   ]
  },
  {
   "cell_type": "markdown",
   "metadata": {},
   "source": [
    "A few assumptions here:\n",
    "1. we are assuming that these 1000 users represent the entire population of the company's userbase in every country\n",
    "2. assuming that quizzes are sequential. You cannot complete the second quiz without completing the first"
   ]
  },
  {
   "cell_type": "code",
   "execution_count": 1,
   "metadata": {
    "collapsed": true
   },
   "outputs": [],
   "source": [
    "import pandas as pd\n",
    "import numpy as np\n",
    "\n"
   ]
  },
  {
   "cell_type": "code",
   "execution_count": 3,
   "metadata": {
    "collapsed": false
   },
   "outputs": [],
   "source": [
    "\n",
    "### Graphing\n",
    "import matplotlib.pyplot as plt\n",
    "import seaborn as sns\n",
    "\n",
    "plt.style.use('fivethirtyeight')\n",
    "\n",
    "# Plot within the jupyter notebook\n",
    "%matplotlib inline\n",
    "# Basically, the HD version\n",
    "%config InlineBackend.figure_format = 'retina'\n"
   ]
  },
  {
   "cell_type": "code",
   "execution_count": 4,
   "metadata": {
    "collapsed": true
   },
   "outputs": [],
   "source": [
    "df = pd.read_csv('/Users/KerryChowChow/Data_Science_portfolio/Online_ad_acquisition/MOCK_DATA.csv')"
   ]
  },
  {
   "cell_type": "code",
   "execution_count": 5,
   "metadata": {
    "collapsed": false,
    "scrolled": false
   },
   "outputs": [
    {
     "data": {
      "text/html": [
       "<div>\n",
       "<table border=\"1\" class=\"dataframe\">\n",
       "  <thead>\n",
       "    <tr style=\"text-align: right;\">\n",
       "      <th></th>\n",
       "      <th>0</th>\n",
       "      <th>1</th>\n",
       "    </tr>\n",
       "  </thead>\n",
       "  <tbody>\n",
       "    <tr>\n",
       "      <th>id</th>\n",
       "      <td>1</td>\n",
       "      <td>2</td>\n",
       "    </tr>\n",
       "    <tr>\n",
       "      <th>first_name</th>\n",
       "      <td>Charles</td>\n",
       "      <td>Sara</td>\n",
       "    </tr>\n",
       "    <tr>\n",
       "      <th>last_name</th>\n",
       "      <td>Garza</td>\n",
       "      <td>Castillo</td>\n",
       "    </tr>\n",
       "    <tr>\n",
       "      <th>email</th>\n",
       "      <td>cgarza0@hexun.com</td>\n",
       "      <td>scastillo1@blogspot.com</td>\n",
       "    </tr>\n",
       "    <tr>\n",
       "      <th>platform</th>\n",
       "      <td>ios</td>\n",
       "      <td>ios</td>\n",
       "    </tr>\n",
       "    <tr>\n",
       "      <th>country</th>\n",
       "      <td>China</td>\n",
       "      <td>China</td>\n",
       "    </tr>\n",
       "    <tr>\n",
       "      <th>referrer</th>\n",
       "      <td>sbwire.com</td>\n",
       "      <td>ucoz.com</td>\n",
       "    </tr>\n",
       "    <tr>\n",
       "      <th>acquisition cost</th>\n",
       "      <td>$0.34</td>\n",
       "      <td>$1.85</td>\n",
       "    </tr>\n",
       "    <tr>\n",
       "      <th>days since install</th>\n",
       "      <td>13</td>\n",
       "      <td>9</td>\n",
       "    </tr>\n",
       "    <tr>\n",
       "      <th>registration</th>\n",
       "      <td>1</td>\n",
       "      <td>1</td>\n",
       "    </tr>\n",
       "    <tr>\n",
       "      <th>app launch</th>\n",
       "      <td>7</td>\n",
       "      <td>-1</td>\n",
       "    </tr>\n",
       "    <tr>\n",
       "      <th>complete quiz 1</th>\n",
       "      <td>1</td>\n",
       "      <td>1</td>\n",
       "    </tr>\n",
       "    <tr>\n",
       "      <th>complete quiz 2</th>\n",
       "      <td>1</td>\n",
       "      <td>1</td>\n",
       "    </tr>\n",
       "    <tr>\n",
       "      <th>complete quiz 3</th>\n",
       "      <td>0</td>\n",
       "      <td>1</td>\n",
       "    </tr>\n",
       "    <tr>\n",
       "      <th>complete quiz 4</th>\n",
       "      <td>0</td>\n",
       "      <td>0</td>\n",
       "    </tr>\n",
       "    <tr>\n",
       "      <th>complete quiz 5</th>\n",
       "      <td>0</td>\n",
       "      <td>0</td>\n",
       "    </tr>\n",
       "    <tr>\n",
       "      <th>people checkfit</th>\n",
       "      <td>18</td>\n",
       "      <td>17</td>\n",
       "    </tr>\n",
       "    <tr>\n",
       "      <th>company checkfit</th>\n",
       "      <td>12</td>\n",
       "      <td>15</td>\n",
       "    </tr>\n",
       "    <tr>\n",
       "      <th>invite friend</th>\n",
       "      <td>7</td>\n",
       "      <td>7</td>\n",
       "    </tr>\n",
       "    <tr>\n",
       "      <th>share app</th>\n",
       "      <td>4</td>\n",
       "      <td>5</td>\n",
       "    </tr>\n",
       "    <tr>\n",
       "      <th>profile view</th>\n",
       "      <td>9</td>\n",
       "      <td>12</td>\n",
       "    </tr>\n",
       "    <tr>\n",
       "      <th>company view</th>\n",
       "      <td>7</td>\n",
       "      <td>13</td>\n",
       "    </tr>\n",
       "    <tr>\n",
       "      <th>create a team</th>\n",
       "      <td>2</td>\n",
       "      <td>5</td>\n",
       "    </tr>\n",
       "    <tr>\n",
       "      <th>join a team</th>\n",
       "      <td>7</td>\n",
       "      <td>2</td>\n",
       "    </tr>\n",
       "  </tbody>\n",
       "</table>\n",
       "</div>"
      ],
      "text/plain": [
       "                                    0                        1\n",
       "id                                  1                        2\n",
       "first_name                    Charles                     Sara\n",
       "last_name                       Garza                 Castillo\n",
       "email               cgarza0@hexun.com  scastillo1@blogspot.com\n",
       "platform                          ios                      ios\n",
       "country                         China                    China\n",
       "referrer                   sbwire.com                 ucoz.com\n",
       "acquisition cost                $0.34                    $1.85\n",
       "days since install                 13                        9\n",
       "registration                        1                        1\n",
       "app launch                          7                       -1\n",
       "complete quiz 1                     1                        1\n",
       "complete quiz 2                     1                        1\n",
       "complete quiz 3                     0                        1\n",
       "complete quiz 4                     0                        0\n",
       "complete quiz 5                     0                        0\n",
       "people checkfit                    18                       17\n",
       "company checkfit                   12                       15\n",
       "invite friend                       7                        7\n",
       "share app                           4                        5\n",
       "profile view                        9                       12\n",
       "company view                        7                       13\n",
       "create a team                       2                        5\n",
       "join a team                         7                        2"
      ]
     },
     "execution_count": 5,
     "metadata": {},
     "output_type": "execute_result"
    }
   ],
   "source": [
    "df.head(2).T"
   ]
  },
  {
   "cell_type": "code",
   "execution_count": 9,
   "metadata": {
    "collapsed": false
   },
   "outputs": [
    {
     "name": "stdout",
     "output_type": "stream",
     "text": [
      "<class 'pandas.core.frame.DataFrame'>\n",
      "RangeIndex: 1000 entries, 0 to 999\n",
      "Data columns (total 24 columns):\n",
      "id                    1000 non-null int64\n",
      "first_name            1000 non-null object\n",
      "last_name             1000 non-null object\n",
      "email                 1000 non-null object\n",
      "platform              1000 non-null object\n",
      "country               1000 non-null object\n",
      "referrer              1000 non-null object\n",
      "acquisition cost      1000 non-null object\n",
      "days since install    1000 non-null int64\n",
      "registration          1000 non-null int64\n",
      "app launch            1000 non-null int64\n",
      "complete quiz 1       1000 non-null int64\n",
      "complete quiz 2       1000 non-null int64\n",
      "complete quiz 3       1000 non-null int64\n",
      "complete quiz 4       1000 non-null int64\n",
      "complete quiz 5       1000 non-null int64\n",
      "people checkfit       1000 non-null int64\n",
      "company checkfit      1000 non-null int64\n",
      "invite friend         1000 non-null int64\n",
      "share app             1000 non-null int64\n",
      "profile view          1000 non-null int64\n",
      "company view          1000 non-null int64\n",
      "create a team         1000 non-null int64\n",
      "join a team           1000 non-null int64\n",
      "dtypes: int64(17), object(7)\n",
      "memory usage: 187.6+ KB\n"
     ]
    }
   ],
   "source": [
    "df.info()"
   ]
  },
  {
   "cell_type": "code",
   "execution_count": 14,
   "metadata": {
    "collapsed": false
   },
   "outputs": [],
   "source": [
    "# convert acquisition cost to number\n",
    "df['acquisition cost'] = df['acquisition cost'].apply(lambda x: float(x[1:]))"
   ]
  },
  {
   "cell_type": "markdown",
   "metadata": {},
   "source": [
    "# 1. Which countries are the cheapest for us to acquire users that complete registration?\n",
    "- columns to look at: id, country, registration\n",
    "1. filter registration == 1\n",
    "2. groupby country, agg on acquisition cost\n",
    "3. rank ascendingly by acquisition cost"
   ]
  },
  {
   "cell_type": "code",
   "execution_count": 6,
   "metadata": {
    "collapsed": false
   },
   "outputs": [
    {
     "data": {
      "text/plain": [
       "array([1, 0])"
      ]
     },
     "execution_count": 6,
     "metadata": {},
     "output_type": "execute_result"
    }
   ],
   "source": [
    "df.registration.unique()"
   ]
  },
  {
   "cell_type": "code",
   "execution_count": 24,
   "metadata": {
    "collapsed": false,
    "scrolled": false
   },
   "outputs": [
    {
     "data": {
      "text/plain": [
       "country\n",
       "Australia           3\n",
       "Canada             38\n",
       "China             523\n",
       "Germany             6\n",
       "Italy               2\n",
       "Japan              48\n",
       "Mexico             42\n",
       "Portugal           90\n",
       "Spain              11\n",
       "Ukraine            46\n",
       "United Kingdom      5\n",
       "United States      79\n",
       "Name: acquisition cost, dtype: int64"
      ]
     },
     "execution_count": 24,
     "metadata": {},
     "output_type": "execute_result"
    },
    {
     "data": {
      "image/png": "[encoded data removed]",
      "text/plain": [
       "<matplotlib.figure.Figure at 0x1029f0f50>"
      ]
     },
     "metadata": {
      "image/png": {
       "height": 337,
       "width": 413
      }
     },
     "output_type": "display_data"
    }
   ],
   "source": [
    "df[df.registration == 1].groupby(['country'])['acquisition cost'].count().plot(kind='bar')\n",
    "# look at how many users we have in each country\n",
    "df[df.registration == 1].groupby(['country'])['acquisition cost'].count()"
   ]
  },
  {
   "cell_type": "code",
   "execution_count": 82,
   "metadata": {
    "collapsed": false
   },
   "outputs": [
    {
     "data": {
      "text/plain": [
       "2.7266600915461723"
      ]
     },
     "execution_count": 82,
     "metadata": {},
     "output_type": "execute_result"
    }
   ],
   "source": [
    "reg_avg = df[df.registration == 1].groupby(['country'])['acquisition cost'].mean().mean()\n",
    "reg_avg"
   ]
  },
  {
   "cell_type": "code",
   "execution_count": 136,
   "metadata": {
    "collapsed": false
   },
   "outputs": [
    {
     "data": {
      "text/plain": [
       "country\n",
       "Canada            2.487895\n",
       "Mexico            2.510952\n",
       "United States     2.532532\n",
       "China             2.571358\n",
       "Ukraine           2.610435\n",
       "Germany           2.671667\n",
       "Portugal          2.681000\n",
       "Italy             2.740000\n",
       "Japan             2.788750\n",
       "Spain             2.800000\n",
       "Australia         2.813333\n",
       "United Kingdom    3.512000\n",
       "Name: acquisition cost, dtype: float64"
      ]
     },
     "execution_count": 136,
     "metadata": {},
     "output_type": "execute_result"
    }
   ],
   "source": [
    "df[df.registration == 1].groupby(['country'])['acquisition cost'].mean().sort_values(ascending=True)"
   ]
  },
  {
   "cell_type": "code",
   "execution_count": 83,
   "metadata": {
    "collapsed": false,
    "scrolled": true
   },
   "outputs": [
    {
     "data": {
      "text/plain": [
       "<matplotlib.lines.Line2D at 0x118c652d0>"
      ]
     },
     "execution_count": 83,
     "metadata": {},
     "output_type": "execute_result"
    },
    {
     "data": {
      "image/png": "[encoded data removed]",
      "text/plain": [
       "<matplotlib.figure.Figure at 0x118299dd0>"
      ]
     },
     "metadata": {
      "image/png": {
       "height": 348,
       "width": 411
      }
     },
     "output_type": "display_data"
    }
   ],
   "source": [
    "df[df.registration == 1].groupby(['country'])['acquisition cost'].mean().sort_values(ascending=True).plot(kind='bar', legend=True, title='average acquisition cost / country')\n",
    "\n",
    "plt.axhline(y=reg_avg, color='b', linestyle='dashed', linewidth=2)"
   ]
  },
  {
   "cell_type": "markdown",
   "metadata": {},
   "source": [
    "Comparing to the total average, it costs the most to acquire UK users (\\$3.5 acquisition cost per user). It costs the least to acquire Canadian users (\\$2.5 acquisition cost per user)"
   ]
  },
  {
   "cell_type": "markdown",
   "metadata": {},
   "source": [
    "# 2. Suppose we want users that \"will\" complete all 5 quizzes. What are the top 10 cheapest countries for us to acquire users that complete all 5 quizzes?"
   ]
  },
  {
   "cell_type": "code",
   "execution_count": 33,
   "metadata": {
    "collapsed": false
   },
   "outputs": [],
   "source": [
    "mask = (df['complete quiz 1'] == 1) & (df['complete quiz 2'] == 1) & (df['complete quiz 3'] == 1) & (df['complete quiz 4'] == 1) & (df['complete quiz 5'] == 1)"
   ]
  },
  {
   "cell_type": "code",
   "execution_count": 40,
   "metadata": {
    "collapsed": false
   },
   "outputs": [
    {
     "data": {
      "text/plain": [
       "country\n",
       "China    2.802\n",
       "Japan    2.960\n",
       "Name: acquisition cost, dtype: float64"
      ]
     },
     "execution_count": 40,
     "metadata": {},
     "output_type": "execute_result"
    }
   ],
   "source": [
    "# find users that completed all five quizzes \n",
    "df[mask].groupby(['country'])['acquisition cost'].mean().sort_values(ascending=True)\n",
    "# there are only 6 rows / 6 users that have completed all 5 quizzes \n",
    "# and they come from 2 countries. "
   ]
  },
  {
   "cell_type": "markdown",
   "metadata": {},
   "source": [
    "The result is weird if we are only filtering users that have completed 5 quizzes. There are only 6 rows / 6 users that have completed all 5 quizzes and they come from 2 countries - Japan and China.\n",
    "Perhaps, we want to look at the trajectories of users from different countries completing quizzes?"
   ]
  },
  {
   "cell_type": "code",
   "execution_count": 65,
   "metadata": {
    "collapsed": true
   },
   "outputs": [],
   "source": [
    "# Look at top countries that have completed at least 4 quizzes\n",
    "mask2 = (df['complete quiz 1'] == 1) & (df['complete quiz 2'] == 1) & (df['complete quiz 3'] == 1) & (df['complete quiz 4'] == 1) "
   ]
  },
  {
   "cell_type": "code",
   "execution_count": 77,
   "metadata": {
    "collapsed": false
   },
   "outputs": [
    {
     "data": {
      "text/plain": [
       "2.4447760724124361"
      ]
     },
     "execution_count": 77,
     "metadata": {},
     "output_type": "execute_result"
    }
   ],
   "source": [
    "country_avg = df[mask2].groupby(['country'])['acquisition cost'].mean().mean()"
   ]
  },
  {
   "cell_type": "code",
   "execution_count": 84,
   "metadata": {
    "collapsed": false,
    "scrolled": false
   },
   "outputs": [
    {
     "data": {
      "text/plain": [
       "<matplotlib.lines.Line2D at 0x11c424690>"
      ]
     },
     "execution_count": 84,
     "metadata": {},
     "output_type": "execute_result"
    },
    {
     "data": {
      "image/png": "[encoded data removed]",
      "text/plain": [
       "<matplotlib.figure.Figure at 0x118c27050>"
      ]
     },
     "metadata": {
      "image/png": {
       "height": 348,
       "width": 411
      }
     },
     "output_type": "display_data"
    }
   ],
   "source": [
    "\n",
    "df[mask2].groupby(['country'])['acquisition cost'].mean().sort_values(ascending=True).plot(kind='bar',legend=True, title='average acquisition cost / country')\n",
    "df[mask2].groupby(['country'])['acquisition cost'].mean().sort_values(ascending=True)\n",
    "plt.axhline(y=country_avg, color='b', linestyle='dashed', linewidth=2)"
   ]
  },
  {
   "cell_type": "markdown",
   "metadata": {},
   "source": [
    "The acquisition cost for Spain is \\$0 which was weird. Then, it turned out that we only got one user from Spain who has completed at least 4 quizzes and the acquisition cost is $0. It's obvious that this user is an outlier that we should not use this information to generalize the entire Spain population.\n",
    "- if have more time, I would build a threshold determining the # of quizzes to indicate the likelihood of completing all 5 quizzes.\n",
    "- Interesting to notice how Japan is the top 4th most expensive country to acquire users. However, it is also the top 4th cheapest country to acquire users who tend to help maintain good data quality (aka complete the most quizes.)\n",
    "- On the other hand, UK was the most expensive country to acquire users but they tend to complete more quizzes than countries like China or Portugal. "
   ]
  },
  {
   "cell_type": "code",
   "execution_count": 73,
   "metadata": {
    "collapsed": false
   },
   "outputs": [
    {
     "data": {
      "text/html": [
       "<div>\n",
       "<table border=\"1\" class=\"dataframe\">\n",
       "  <thead>\n",
       "    <tr style=\"text-align: right;\">\n",
       "      <th></th>\n",
       "      <th>id</th>\n",
       "      <th>first_name</th>\n",
       "      <th>last_name</th>\n",
       "      <th>email</th>\n",
       "      <th>platform</th>\n",
       "      <th>country</th>\n",
       "      <th>referrer</th>\n",
       "      <th>acquisition cost</th>\n",
       "      <th>days since install</th>\n",
       "      <th>registration</th>\n",
       "      <th>...</th>\n",
       "      <th>complete quiz 5</th>\n",
       "      <th>people checkfit</th>\n",
       "      <th>company checkfit</th>\n",
       "      <th>invite friend</th>\n",
       "      <th>share app</th>\n",
       "      <th>profile view</th>\n",
       "      <th>company view</th>\n",
       "      <th>create a team</th>\n",
       "      <th>join a team</th>\n",
       "      <th>abg_checkfit_day</th>\n",
       "    </tr>\n",
       "  </thead>\n",
       "  <tbody>\n",
       "    <tr>\n",
       "      <th>356</th>\n",
       "      <td>357</td>\n",
       "      <td>Harold</td>\n",
       "      <td>Shaw</td>\n",
       "      <td>hshaw9w@who.int</td>\n",
       "      <td>android</td>\n",
       "      <td>Spain</td>\n",
       "      <td>deviantart.com</td>\n",
       "      <td>0.0</td>\n",
       "      <td>9</td>\n",
       "      <td>1</td>\n",
       "      <td>...</td>\n",
       "      <td>0</td>\n",
       "      <td>13</td>\n",
       "      <td>13</td>\n",
       "      <td>11</td>\n",
       "      <td>5</td>\n",
       "      <td>20</td>\n",
       "      <td>20</td>\n",
       "      <td>4</td>\n",
       "      <td>3</td>\n",
       "      <td>1.444444</td>\n",
       "    </tr>\n",
       "  </tbody>\n",
       "</table>\n",
       "<p>1 rows × 25 columns</p>\n",
       "</div>"
      ],
      "text/plain": [
       "      id first_name last_name            email platform country  \\\n",
       "356  357     Harold      Shaw  hshaw9w@who.int  android   Spain   \n",
       "\n",
       "           referrer  acquisition cost  days since install  registration  \\\n",
       "356  deviantart.com               0.0                   9             1   \n",
       "\n",
       "           ...         complete quiz 5  people checkfit  company checkfit  \\\n",
       "356        ...                       0               13                13   \n",
       "\n",
       "     invite friend  share app  profile view  company view  create a team  \\\n",
       "356             11          5            20            20              4   \n",
       "\n",
       "     join a team  abg_checkfit_day  \n",
       "356            3          1.444444  \n",
       "\n",
       "[1 rows x 25 columns]"
      ]
     },
     "execution_count": 73,
     "metadata": {},
     "output_type": "execute_result"
    }
   ],
   "source": [
    "df[mask2][df[mask2].country == 'Spain']\n"
   ]
  },
  {
   "cell_type": "code",
   "execution_count": null,
   "metadata": {
    "collapsed": true
   },
   "outputs": [],
   "source": []
  },
  {
   "cell_type": "markdown",
   "metadata": {},
   "source": [
    "# 3. How many times should we expect a user to complete \"people checkfit\" per day?\n",
    "- \"people checkfit\" is a new feature to increase the amount of time users would stay on the app. We want to see if people are actually using the new feature\n",
    "- look at 'people checkfit' and \"days since install\"\n",
    "- aggregate all # of \"people checkfit\" then devide that by \"days sicne install\" to get the average numbers of \"people checkfit\" per day since they registered. "
   ]
  },
  {
   "cell_type": "code",
   "execution_count": 11,
   "metadata": {
    "collapsed": false
   },
   "outputs": [
    {
     "data": {
      "text/plain": [
       "(1000, 25)"
      ]
     },
     "execution_count": 11,
     "metadata": {},
     "output_type": "execute_result"
    }
   ],
   "source": [
    "df.shape"
   ]
  },
  {
   "cell_type": "code",
   "execution_count": 15,
   "metadata": {
    "collapsed": false
   },
   "outputs": [
    {
     "data": {
      "text/plain": [
       "0"
      ]
     },
     "execution_count": 15,
     "metadata": {},
     "output_type": "execute_result"
    }
   ],
   "source": [
    "df[df['people checkfit'] == 0].id.count()\n",
    "# all the users have used the new feature since they registered"
   ]
  },
  {
   "cell_type": "code",
   "execution_count": 19,
   "metadata": {
    "collapsed": false
   },
   "outputs": [
    {
     "data": {
      "text/plain": [
       "<matplotlib.axes._subplots.AxesSubplot at 0x111077850>"
      ]
     },
     "execution_count": 19,
     "metadata": {},
     "output_type": "execute_result"
    },
    {
     "data": {
      "image/png": "[encoded data removed]",
      "text/plain": [
       "<matplotlib.figure.Figure at 0x111077710>"
      ]
     },
     "metadata": {
      "image/png": {
       "height": 258,
       "width": 408
      }
     },
     "output_type": "display_data"
    }
   ],
   "source": [
    "\n",
    "df['people checkfit'].plot(kind='box')"
   ]
  },
  {
   "cell_type": "code",
   "execution_count": 20,
   "metadata": {
    "collapsed": false
   },
   "outputs": [
    {
     "data": {
      "text/plain": [
       "count    1000.000000\n",
       "mean       14.952000\n",
       "std         2.990759\n",
       "min         5.000000\n",
       "25%        13.000000\n",
       "50%        15.000000\n",
       "75%        17.000000\n",
       "max        24.000000\n",
       "Name: people checkfit, dtype: float64"
      ]
     },
     "execution_count": 20,
     "metadata": {},
     "output_type": "execute_result"
    }
   ],
   "source": [
    "df['people checkfit'].describe()"
   ]
  },
  {
   "cell_type": "markdown",
   "metadata": {},
   "source": [
    "The total number of time using the new feature ranges from 5 times to 24 times.\n",
    "\n"
   ]
  },
  {
   "cell_type": "code",
   "execution_count": 6,
   "metadata": {
    "collapsed": false
   },
   "outputs": [
    {
     "data": {
      "text/plain": [
       "14952"
      ]
     },
     "execution_count": 6,
     "metadata": {},
     "output_type": "execute_result"
    }
   ],
   "source": [
    "(df['people checkfit'].sum())"
   ]
  },
  {
   "cell_type": "code",
   "execution_count": 7,
   "metadata": {
    "collapsed": false
   },
   "outputs": [
    {
     "data": {
      "text/plain": [
       "9933"
      ]
     },
     "execution_count": 7,
     "metadata": {},
     "output_type": "execute_result"
    }
   ],
   "source": [
    "(df['days since install'].sum())"
   ]
  },
  {
   "cell_type": "code",
   "execution_count": 8,
   "metadata": {
    "collapsed": false
   },
   "outputs": [],
   "source": [
    "df['avg_checkfit_day'] = df['people checkfit'].div(df['days since install'], axis='index')"
   ]
  },
  {
   "cell_type": "code",
   "execution_count": 9,
   "metadata": {
    "collapsed": false
   },
   "outputs": [
    {
     "data": {
      "text/plain": [
       "<matplotlib.lines.Line2D at 0x1011ef3d0>"
      ]
     },
     "execution_count": 9,
     "metadata": {},
     "output_type": "execute_result"
    },
    {
     "data": {
      "image/png": "[encoded data removed]",
      "text/plain": [
       "<matplotlib.figure.Figure at 0x105fa4590>"
      ]
     },
     "metadata": {
      "image/png": {
       "height": 270,
       "width": 437
      }
     },
     "output_type": "display_data"
    }
   ],
   "source": [
    "df['avg_checkfit_day'].plot(kind='hist', title = 'average checkfit per day')\n",
    "plt.axvline(df['avg_checkfit_day'].mean(), color='b', linestyle='dashed', linewidth=2)"
   ]
  },
  {
   "cell_type": "markdown",
   "metadata": {
    "collapsed": true
   },
   "source": [
    "Yes, users are engaging with our app with the new feature. On average, users use the new feature at least once a day."
   ]
  },
  {
   "cell_type": "code",
   "execution_count": null,
   "metadata": {
    "collapsed": true
   },
   "outputs": [],
   "source": []
  },
  {
   "cell_type": "markdown",
   "metadata": {},
   "source": [
    "# 4. The first milestone we want our users to hit is completing the first quiz. \n",
    "1. What's the average rate that users complete the first quiz? \n",
    "2. For users who have completed the first quiz, are they more likely, less likely, or equally likely to invite a friend?\n",
    "\n",
    "Assuming that we are comparing users who have completed the first quiz vs users who did not complete the first quiz"
   ]
  },
  {
   "cell_type": "code",
   "execution_count": 90,
   "metadata": {
    "collapsed": false
   },
   "outputs": [
    {
     "data": {
      "text/plain": [
       "894"
      ]
     },
     "execution_count": 90,
     "metadata": {},
     "output_type": "execute_result"
    }
   ],
   "source": [
    "# average rate of a user completing the first quiz\n",
    "df[df['complete quiz 1'] == 1]['id'].count()"
   ]
  },
  {
   "cell_type": "code",
   "execution_count": 98,
   "metadata": {
    "collapsed": false
   },
   "outputs": [
    {
     "name": "stdout",
     "output_type": "stream",
     "text": [
      "about 89.4% of users have completed the first quiz\n"
     ]
    }
   ],
   "source": [
    "print \"about \" + str((894.0/1000.0)*100) + \"%\" + \" of users have completed the first quiz\""
   ]
  },
  {
   "cell_type": "code",
   "execution_count": 109,
   "metadata": {
    "collapsed": false
   },
   "outputs": [
    {
     "data": {
      "text/plain": [
       "<matplotlib.axes._subplots.AxesSubplot at 0x11d7e0250>"
      ]
     },
     "execution_count": 109,
     "metadata": {},
     "output_type": "execute_result"
    },
    {
     "data": {
      "image/png": "[encoded data removed]",
      "text/plain": [
       "<matplotlib.figure.Figure at 0x11f34d7d0>"
      ]
     },
     "metadata": {
      "image/png": {
       "height": 254,
       "width": 388
      }
     },
     "output_type": "display_data"
    }
   ],
   "source": [
    "sns.heatmap((df[['complete quiz 1', 'invite friend']].corr()))"
   ]
  },
  {
   "cell_type": "code",
   "execution_count": 110,
   "metadata": {
    "collapsed": false
   },
   "outputs": [
    {
     "data": {
      "text/html": [
       "<div>\n",
       "<table border=\"1\" class=\"dataframe\">\n",
       "  <thead>\n",
       "    <tr style=\"text-align: right;\">\n",
       "      <th></th>\n",
       "      <th>complete quiz 1</th>\n",
       "      <th>invite friend</th>\n",
       "    </tr>\n",
       "  </thead>\n",
       "  <tbody>\n",
       "    <tr>\n",
       "      <th>complete quiz 1</th>\n",
       "      <td>1.000000</td>\n",
       "      <td>-0.057449</td>\n",
       "    </tr>\n",
       "    <tr>\n",
       "      <th>invite friend</th>\n",
       "      <td>-0.057449</td>\n",
       "      <td>1.000000</td>\n",
       "    </tr>\n",
       "  </tbody>\n",
       "</table>\n",
       "</div>"
      ],
      "text/plain": [
       "                 complete quiz 1  invite friend\n",
       "complete quiz 1         1.000000      -0.057449\n",
       "invite friend          -0.057449       1.000000"
      ]
     },
     "execution_count": 110,
     "metadata": {},
     "output_type": "execute_result"
    }
   ],
   "source": [
    "(df[['complete quiz 1', 'invite friend']].corr())"
   ]
  },
  {
   "cell_type": "code",
   "execution_count": 112,
   "metadata": {
    "collapsed": false
   },
   "outputs": [
    {
     "data": {
      "text/plain": [
       "complete quiz 1\n",
       "0    10.613208\n",
       "1    10.059284\n",
       "Name: invite friend, dtype: float64"
      ]
     },
     "execution_count": 112,
     "metadata": {},
     "output_type": "execute_result"
    }
   ],
   "source": [
    "df.groupby(['complete quiz 1'])['invite friend'].mean()\n",
    "# it seems like both typs of users invite the same amount of friends on average."
   ]
  },
  {
   "cell_type": "markdown",
   "metadata": {},
   "source": [
    "Out of all the registered users, about 89.4% of users have completed the first quiz (start providing data / using the app). Surprisingly, there is no correlation between completing the first quiz and inviting friends to download the app. Given the incentive structure of the app (you get “virtual tokens” by both inviting friends and completing tests), perhaps some people find it more effortless to acquire virtual tokens by inviting friends than giving out their personality data. Either way is helpful for growing the app’s user base. "
   ]
  },
  {
   "cell_type": "code",
   "execution_count": null,
   "metadata": {
    "collapsed": true
   },
   "outputs": [],
   "source": []
  }
 ],
 "metadata": {
  "kernelspec": {
   "display_name": "Python [dsi]",
   "language": "python",
   "name": "Python [dsi]"
  },
  "language_info": {
   "codemirror_mode": {
    "name": "ipython",
    "version": 2
   },
   "file_extension": ".py",
   "mimetype": "text/x-python",
   "name": "python",
   "nbconvert_exporter": "python",
   "pygments_lexer": "ipython2",
   "version": "2.7.12"
  }
 },
 "nbformat": 4,
 "nbformat_minor": 0
}
